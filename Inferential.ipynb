{
 "cells": [
  {
   "cell_type": "code",
   "execution_count": 1,
   "id": "644aedde-d858-4014-8cd8-d34e15a4f2e1",
   "metadata": {},
   "outputs": [],
   "source": [
    "import pandas as pd\n",
    "import numpy as np"
   ]
  },
  {
   "cell_type": "code",
   "execution_count": 2,
   "id": "02c802f9-c9cc-412e-b1a3-63c7f8c78064",
   "metadata": {},
   "outputs": [
    {
     "data": {
      "text/html": [
       "<div>\n",
       "<style scoped>\n",
       "    .dataframe tbody tr th:only-of-type {\n",
       "        vertical-align: middle;\n",
       "    }\n",
       "\n",
       "    .dataframe tbody tr th {\n",
       "        vertical-align: top;\n",
       "    }\n",
       "\n",
       "    .dataframe thead th {\n",
       "        text-align: right;\n",
       "    }\n",
       "</style>\n",
       "<table border=\"1\" class=\"dataframe\">\n",
       "  <thead>\n",
       "    <tr style=\"text-align: right;\">\n",
       "      <th></th>\n",
       "      <th>Pregnancies</th>\n",
       "      <th>Glucose</th>\n",
       "      <th>BloodPressure</th>\n",
       "      <th>SkinThickness</th>\n",
       "      <th>Insulin</th>\n",
       "      <th>BMI</th>\n",
       "      <th>DiabetesPedigreeFunction</th>\n",
       "      <th>Age</th>\n",
       "      <th>Outcome</th>\n",
       "    </tr>\n",
       "  </thead>\n",
       "  <tbody>\n",
       "    <tr>\n",
       "      <th>0</th>\n",
       "      <td>6</td>\n",
       "      <td>148</td>\n",
       "      <td>72</td>\n",
       "      <td>35</td>\n",
       "      <td>0</td>\n",
       "      <td>33.6</td>\n",
       "      <td>0.627</td>\n",
       "      <td>50</td>\n",
       "      <td>1</td>\n",
       "    </tr>\n",
       "    <tr>\n",
       "      <th>1</th>\n",
       "      <td>1</td>\n",
       "      <td>85</td>\n",
       "      <td>66</td>\n",
       "      <td>29</td>\n",
       "      <td>0</td>\n",
       "      <td>26.6</td>\n",
       "      <td>0.351</td>\n",
       "      <td>31</td>\n",
       "      <td>0</td>\n",
       "    </tr>\n",
       "    <tr>\n",
       "      <th>2</th>\n",
       "      <td>8</td>\n",
       "      <td>183</td>\n",
       "      <td>64</td>\n",
       "      <td>0</td>\n",
       "      <td>0</td>\n",
       "      <td>23.3</td>\n",
       "      <td>0.672</td>\n",
       "      <td>32</td>\n",
       "      <td>1</td>\n",
       "    </tr>\n",
       "    <tr>\n",
       "      <th>3</th>\n",
       "      <td>1</td>\n",
       "      <td>89</td>\n",
       "      <td>66</td>\n",
       "      <td>23</td>\n",
       "      <td>94</td>\n",
       "      <td>28.1</td>\n",
       "      <td>0.167</td>\n",
       "      <td>21</td>\n",
       "      <td>0</td>\n",
       "    </tr>\n",
       "    <tr>\n",
       "      <th>4</th>\n",
       "      <td>0</td>\n",
       "      <td>137</td>\n",
       "      <td>40</td>\n",
       "      <td>35</td>\n",
       "      <td>168</td>\n",
       "      <td>43.1</td>\n",
       "      <td>2.288</td>\n",
       "      <td>33</td>\n",
       "      <td>1</td>\n",
       "    </tr>\n",
       "    <tr>\n",
       "      <th>...</th>\n",
       "      <td>...</td>\n",
       "      <td>...</td>\n",
       "      <td>...</td>\n",
       "      <td>...</td>\n",
       "      <td>...</td>\n",
       "      <td>...</td>\n",
       "      <td>...</td>\n",
       "      <td>...</td>\n",
       "      <td>...</td>\n",
       "    </tr>\n",
       "    <tr>\n",
       "      <th>763</th>\n",
       "      <td>10</td>\n",
       "      <td>101</td>\n",
       "      <td>76</td>\n",
       "      <td>48</td>\n",
       "      <td>180</td>\n",
       "      <td>32.9</td>\n",
       "      <td>0.171</td>\n",
       "      <td>63</td>\n",
       "      <td>0</td>\n",
       "    </tr>\n",
       "    <tr>\n",
       "      <th>764</th>\n",
       "      <td>2</td>\n",
       "      <td>122</td>\n",
       "      <td>70</td>\n",
       "      <td>27</td>\n",
       "      <td>0</td>\n",
       "      <td>36.8</td>\n",
       "      <td>0.340</td>\n",
       "      <td>27</td>\n",
       "      <td>0</td>\n",
       "    </tr>\n",
       "    <tr>\n",
       "      <th>765</th>\n",
       "      <td>5</td>\n",
       "      <td>121</td>\n",
       "      <td>72</td>\n",
       "      <td>23</td>\n",
       "      <td>112</td>\n",
       "      <td>26.2</td>\n",
       "      <td>0.245</td>\n",
       "      <td>30</td>\n",
       "      <td>0</td>\n",
       "    </tr>\n",
       "    <tr>\n",
       "      <th>766</th>\n",
       "      <td>1</td>\n",
       "      <td>126</td>\n",
       "      <td>60</td>\n",
       "      <td>0</td>\n",
       "      <td>0</td>\n",
       "      <td>30.1</td>\n",
       "      <td>0.349</td>\n",
       "      <td>47</td>\n",
       "      <td>1</td>\n",
       "    </tr>\n",
       "    <tr>\n",
       "      <th>767</th>\n",
       "      <td>1</td>\n",
       "      <td>93</td>\n",
       "      <td>70</td>\n",
       "      <td>31</td>\n",
       "      <td>0</td>\n",
       "      <td>30.4</td>\n",
       "      <td>0.315</td>\n",
       "      <td>23</td>\n",
       "      <td>0</td>\n",
       "    </tr>\n",
       "  </tbody>\n",
       "</table>\n",
       "<p>768 rows × 9 columns</p>\n",
       "</div>"
      ],
      "text/plain": [
       "     Pregnancies  Glucose  BloodPressure  SkinThickness  Insulin   BMI  \\\n",
       "0              6      148             72             35        0  33.6   \n",
       "1              1       85             66             29        0  26.6   \n",
       "2              8      183             64              0        0  23.3   \n",
       "3              1       89             66             23       94  28.1   \n",
       "4              0      137             40             35      168  43.1   \n",
       "..           ...      ...            ...            ...      ...   ...   \n",
       "763           10      101             76             48      180  32.9   \n",
       "764            2      122             70             27        0  36.8   \n",
       "765            5      121             72             23      112  26.2   \n",
       "766            1      126             60              0        0  30.1   \n",
       "767            1       93             70             31        0  30.4   \n",
       "\n",
       "     DiabetesPedigreeFunction  Age  Outcome  \n",
       "0                       0.627   50        1  \n",
       "1                       0.351   31        0  \n",
       "2                       0.672   32        1  \n",
       "3                       0.167   21        0  \n",
       "4                       2.288   33        1  \n",
       "..                        ...  ...      ...  \n",
       "763                     0.171   63        0  \n",
       "764                     0.340   27        0  \n",
       "765                     0.245   30        0  \n",
       "766                     0.349   47        1  \n",
       "767                     0.315   23        0  \n",
       "\n",
       "[768 rows x 9 columns]"
      ]
     },
     "execution_count": 2,
     "metadata": {},
     "output_type": "execute_result"
    }
   ],
   "source": [
    "df = pd.read_csv('diabetes.csv')\n",
    "df"
   ]
  },
  {
   "cell_type": "code",
   "execution_count": 3,
   "id": "e9d7f27f-3518-4b70-bee1-d6529f90e128",
   "metadata": {},
   "outputs": [
    {
     "data": {
      "text/plain": [
       "(768, 9)"
      ]
     },
     "execution_count": 3,
     "metadata": {},
     "output_type": "execute_result"
    }
   ],
   "source": [
    "df.shape"
   ]
  },
  {
   "cell_type": "code",
   "execution_count": 4,
   "id": "8378a57a-7b6f-4064-8bcb-66cc72c6f763",
   "metadata": {},
   "outputs": [
    {
     "data": {
      "text/plain": [
       "768"
      ]
     },
     "execution_count": 4,
     "metadata": {},
     "output_type": "execute_result"
    }
   ],
   "source": [
    "n=len(df)\n",
    "n"
   ]
  },
  {
   "cell_type": "code",
   "execution_count": 5,
   "id": "253d5e09-daba-43d4-b42f-831dc5a06550",
   "metadata": {},
   "outputs": [],
   "source": [
    "from scipy.stats import shapiro"
   ]
  },
  {
   "cell_type": "code",
   "execution_count": 6,
   "id": "2d82414a-ef68-4571-97ff-3a60d9885520",
   "metadata": {},
   "outputs": [
    {
     "name": "stdout",
     "output_type": "stream",
     "text": [
      "Test stats is: 0.9042812714701655\n",
      "p-value is: 1.6092572358874225e-21\n",
      "Data is not normally distribute\n"
     ]
    }
   ],
   "source": [
    "stats, p = shapiro(df[\"Pregnancies\"])\n",
    "print(\"Test stats is:\",stats)\n",
    "print(\"p-value is:\",p)\n",
    "if p>0.05:\n",
    "  print(\"Data is normally distributed\")\n",
    "else:\n",
    "  print(\"Data is not normally distribute\")"
   ]
  },
  {
   "cell_type": "code",
   "execution_count": 7,
   "id": "da55fd19-7b10-47ec-8234-f935a847ac92",
   "metadata": {},
   "outputs": [
    {
     "name": "stdout",
     "output_type": "stream",
     "text": [
      "Test stats is: 0.9042812714701655\n",
      "p-value is: 1.9863474999979633e-11\n",
      "Data is not normally distribute\n"
     ]
    }
   ],
   "source": [
    "stats1, p1 = shapiro(df[\"Glucose\"])\n",
    "print(\"Test stats is:\",stats)\n",
    "print(\"p-value is:\",p1)\n",
    "if p1>0.05:\n",
    "  print(\"Data is normally distributed\")\n",
    "else:\n",
    "  print(\"Data is not normally distribute\")"
   ]
  },
  {
   "cell_type": "code",
   "execution_count": 8,
   "id": "4f65e29e-06be-4d1a-aee1-2b4527a8bb14",
   "metadata": {},
   "outputs": [
    {
     "name": "stdout",
     "output_type": "stream",
     "text": [
      "Test stats is: 0.9042812714701655\n",
      "p-value is: 1.5841623290215717e-28\n",
      "Data is not normally distribute\n"
     ]
    }
   ],
   "source": [
    "stats2, p2 = shapiro(df[\"BloodPressure\"])\n",
    "print(\"Test stats is:\",stats)\n",
    "print(\"p-value is:\",p2)\n",
    "if p2>0.05:\n",
    "  print(\"Data is normally distributed\")\n",
    "else:\n",
    "  print(\"Data is not normally distribute\")"
   ]
  },
  {
   "cell_type": "code",
   "execution_count": 9,
   "id": "5ea787d9-e2a6-4fc9-b646-2b45f255a5e9",
   "metadata": {},
   "outputs": [
    {
     "name": "stdout",
     "output_type": "stream",
     "text": [
      "Test stats is: 0.9042812714701655\n",
      "p-value is: 1.751754164091415e-21\n",
      "Data is not normally distribute\n"
     ]
    }
   ],
   "source": [
    "stats3, p3 = shapiro(df[\"SkinThickness\"])\n",
    "print(\"Test stats is:\",stats)\n",
    "print(\"p-value is:\",p3)\n",
    "if p3>0.05:\n",
    "  print(\"Data is normally distributed\")\n",
    "else:\n",
    "  print(\"Data is not normally distribute\")"
   ]
  },
  {
   "cell_type": "code",
   "execution_count": 10,
   "id": "1e5e31cf-f334-40b4-8658-c20437592f9a",
   "metadata": {},
   "outputs": [
    {
     "name": "stdout",
     "output_type": "stream",
     "text": [
      "Test stats is: 0.9042812714701655\n",
      "p-value is: 7.914331939766787e-34\n",
      "Data is not normally distribute\n"
     ]
    }
   ],
   "source": [
    "stats3, p3 = shapiro(df[\"Insulin\"])\n",
    "print(\"Test stats is:\",stats)\n",
    "print(\"p-value is:\",p3)\n",
    "if p3>0.05:\n",
    "  print(\"Data is normally distributed\")\n",
    "else:\n",
    "  print(\"Data is not normally distribute\")"
   ]
  },
  {
   "cell_type": "code",
   "execution_count": 11,
   "id": "fa09bf7c-a36c-447a-b2c9-bb0539649ba3",
   "metadata": {},
   "outputs": [
    {
     "name": "stdout",
     "output_type": "stream",
     "text": [
      "Test stats is: 0.9042812714701655\n",
      "p-value is: 7.914331939766787e-34\n",
      "Data is not normally distribute\n"
     ]
    }
   ],
   "source": [
    "stats4, p4 = shapiro(df[\"Insulin\"])\n",
    "print(\"Test stats is:\",stats)\n",
    "print(\"p-value is:\",p4)\n",
    "if p4>0.05:\n",
    "  print(\"Data is normally distributed\")\n",
    "else:\n",
    "  print(\"Data is not normally distribute\")"
   ]
  },
  {
   "cell_type": "code",
   "execution_count": 12,
   "id": "f5dbd00b-9863-45d0-9565-b1a2fb57fd1a",
   "metadata": {},
   "outputs": [
    {
     "name": "stdout",
     "output_type": "stream",
     "text": [
      "Test stats is: 0.9042812714701655\n",
      "p-value is: 1.8416516138516335e-15\n",
      "Data is not normally distribute\n"
     ]
    }
   ],
   "source": [
    "stats5, p5 = shapiro(df[\"BMI\"])\n",
    "print(\"Test stats is:\",stats)\n",
    "print(\"p-value is:\",p5)\n",
    "if p5>0.05:\n",
    "  print(\"Data is normally distributed\")\n",
    "else:\n",
    "  print(\"Data is not normally distribute\")"
   ]
  },
  {
   "cell_type": "code",
   "execution_count": 13,
   "id": "27ffac20-9d78-414f-b299-992b29d4a3c8",
   "metadata": {},
   "outputs": [
    {
     "name": "stdout",
     "output_type": "stream",
     "text": [
      "Test stats is: 0.9042812714701655\n",
      "p-value is: 2.477505530854268e-27\n",
      "Data is not normally distribute\n"
     ]
    }
   ],
   "source": [
    "stats6, p6 = shapiro(df[\"DiabetesPedigreeFunction\"])\n",
    "print(\"Test stats is:\",stats)\n",
    "print(\"p-value is:\",p6)\n",
    "if p6>0.05:\n",
    "  print(\"Data is normally distributed\")\n",
    "else:\n",
    "  print(\"Data is not normally distribute\")"
   ]
  },
  {
   "cell_type": "code",
   "execution_count": 14,
   "id": "5df598e4-71c9-476d-bcef-cc190fc19eb2",
   "metadata": {},
   "outputs": [
    {
     "name": "stdout",
     "output_type": "stream",
     "text": [
      "Test stats is: 0.9042812714701655\n",
      "p-value is: 2.4022741290400888e-24\n",
      "Data is not normally distribute\n"
     ]
    }
   ],
   "source": [
    "stats7, p7 = shapiro(df[\"Age\"])\n",
    "print(\"Test stats is:\",stats)\n",
    "print(\"p-value is:\",p7)\n",
    "if p7>0.05:\n",
    "  print(\"Data is normally distributed\")\n",
    "else:\n",
    "  print(\"Data is not normally distribute\")"
   ]
  },
  {
   "cell_type": "code",
   "execution_count": 15,
   "id": "c0736200-7ed5-4ca2-aec3-32c3e5b4e184",
   "metadata": {},
   "outputs": [
    {
     "name": "stdout",
     "output_type": "stream",
     "text": [
      "Test stats is: 0.9042812714701655\n",
      "p-value is: 1.2926899738528582e-38\n",
      "Data is not normally distribute\n"
     ]
    }
   ],
   "source": [
    "stats8, p8 = shapiro(df[\"Outcome\"])\n",
    "print(\"Test stats is:\",stats)\n",
    "print(\"p-value is:\",p8)\n",
    "if p8>0.05:\n",
    "  print(\"Data is normally distributed\")\n",
    "else:\n",
    "  print(\"Data is not normally distribute\")"
   ]
  },
  {
   "cell_type": "code",
   "execution_count": 16,
   "id": "3b366795-0a29-4f9f-afb8-4eb3708cf627",
   "metadata": {},
   "outputs": [
    {
     "name": "stdout",
     "output_type": "stream",
     "text": [
      "0.9016739791518588\n",
      "Data is not normally distrinute\n"
     ]
    }
   ],
   "source": [
    "skewness = df['Pregnancies'].skew()\n",
    "print(skewness)\n",
    "\n",
    "if skewness==0:\n",
    "    print(\"Data is normally distribute\")\n",
    "else:\n",
    "    print(\"Data is not normally distrinute\")"
   ]
  },
  {
   "cell_type": "code",
   "execution_count": 17,
   "id": "06d225e4-1cb1-4059-9567-b687f01d1c4a",
   "metadata": {},
   "outputs": [],
   "source": [
    "import numpy as np\n",
    "from scipy.stats import pearsonr"
   ]
  },
  {
   "cell_type": "code",
   "execution_count": 18,
   "id": "0bc81c16-fe82-494b-acb4-df4405007e4d",
   "metadata": {},
   "outputs": [
    {
     "name": "stdout",
     "output_type": "stream",
     "text": [
      "Pearsonr correlation Test: 0.35353460198769926\n",
      "Correlation coefficent: -0.033522672962613104\n",
      "p-value: 0.35353460198769926\n",
      "The data is likely not correlated (fail to reject H0).\n"
     ]
    }
   ],
   "source": [
    "x = df[\"DiabetesPedigreeFunction\"]\n",
    "y = df[\"Pregnancies\"]\n",
    "r, p = pearsonr(x, y)\n",
    "\n",
    "print(\"Pearsonr correlation Test:\",p)\n",
    "print(\"Correlation coefficent:\",r)\n",
    "print(\"p-value:\",p)\n",
    "\n",
    "if p > 0.05:\n",
    "    print(\"The data is likely not correlated (fail to reject H0).\")\n",
    "else :\n",
    "    print(\"The data is correlated (reject H0).\")"
   ]
  },
  {
   "cell_type": "code",
   "execution_count": 19,
   "id": "d61ec6cb-5457-4538-93ca-4cfa04970eb4",
   "metadata": {},
   "outputs": [
    {
     "name": "stdout",
     "output_type": "stream",
     "text": [
      "Pearsonr correlation Test: 0.00013458781437157466\n",
      "Correlation coefficent: 0.1373372998283707\n",
      "p-value: 0.00013458781437157466\n",
      "The data is correlated (reject H0).\n"
     ]
    }
   ],
   "source": [
    "x1 = df[\"DiabetesPedigreeFunction\"]\n",
    "y1 = df[\"Glucose\"]\n",
    "r1, p1 = pearsonr(x1, y1)\n",
    "\n",
    "print(\"Pearsonr correlation Test:\",p1)\n",
    "print(\"Correlation coefficent:\",r1)\n",
    "print(\"p-value:\",p1)\n",
    "\n",
    "if p1 > 0.05:\n",
    "    print(\"The data is likely not correlated (fail to reject H0).\")\n",
    "else :\n",
    "    print(\"The data is correlated (reject H0).\")"
   ]
  },
  {
   "cell_type": "code",
   "execution_count": 20,
   "id": "bba07ade-b185-45f3-b5d6-fb81e6cecf25",
   "metadata": {},
   "outputs": [
    {
     "name": "stdout",
     "output_type": "stream",
     "text": [
      "Pearsonr correlation Test: 0.2533743720192343\n",
      "Correlation coefficent: 0.041264947930098564\n",
      "p-value: 0.2533743720192343\n",
      "The data is likely not correlated (fail to reject H0).\n"
     ]
    }
   ],
   "source": [
    "x2 = df[\"DiabetesPedigreeFunction\"]\n",
    "y2 = df[\"BloodPressure\"]\n",
    "r2, p2 = pearsonr(x2, y2)\n",
    "\n",
    "print(\"Pearsonr correlation Test:\",p2)\n",
    "print(\"Correlation coefficent:\",r2)\n",
    "print(\"p-value:\",p2)\n",
    "\n",
    "if p2 > 0.05:\n",
    "    print(\"The data is likely not correlated (fail to reject H0).\")\n",
    "else :\n",
    "    print(\"The data is correlated (reject H0).\")"
   ]
  },
  {
   "cell_type": "code",
   "execution_count": 21,
   "id": "e506cfff-6105-4ae7-9b33-b4f873c8a0d6",
   "metadata": {},
   "outputs": [
    {
     "name": "stdout",
     "output_type": "stream",
     "text": [
      "Pearsonr correlation Test: 2.8561794700267096e-07\n",
      "Correlation coefficent: 0.18392757295416323\n",
      "p-value: 2.8561794700267096e-07\n",
      "The data is correlated (reject H0).\n"
     ]
    }
   ],
   "source": [
    "x3 = df[\"DiabetesPedigreeFunction\"]\n",
    "y3 = df[\"SkinThickness\"]\n",
    "r3, p3 = pearsonr(x3, y3)\n",
    "\n",
    "print(\"Pearsonr correlation Test:\",p3)\n",
    "print(\"Correlation coefficent:\",r3)\n",
    "print(\"p-value:\",p3)\n",
    "\n",
    "if p3 > 0.05:\n",
    "    print(\"The data is likely not correlated (fail to reject H0).\")\n",
    "else :\n",
    "    print(\"The data is correlated (reject H0).\")"
   ]
  },
  {
   "cell_type": "code",
   "execution_count": 22,
   "id": "80ffc1a1-87eb-4f06-8f5d-0e4819ff9030",
   "metadata": {},
   "outputs": [
    {
     "name": "stdout",
     "output_type": "stream",
     "text": [
      "Pearsonr correlation Test: 2.4022640739424854e-07\n",
      "Correlation coefficent: 0.18507092916809909\n",
      "p-value: 2.4022640739424854e-07\n",
      "The data is correlated (reject H0).\n"
     ]
    }
   ],
   "source": [
    "x4 = df[\"DiabetesPedigreeFunction\"]\n",
    "y4 = df[\"Insulin\"]\n",
    "r4, p4 = pearsonr(x4, y4)\n",
    "\n",
    "print(\"Pearsonr correlation Test:\",p4)\n",
    "print(\"Correlation coefficent:\",r4)\n",
    "print(\"p-value:\",p4)\n",
    "\n",
    "if p4 > 0.05:\n",
    "    print(\"The data is likely not correlated (fail to reject H0).\")\n",
    "else :\n",
    "    print(\"The data is correlated (reject H0).\")"
   ]
  },
  {
   "cell_type": "code",
   "execution_count": 23,
   "id": "e25f142b-c7fd-46a1-8358-a20e11b91011",
   "metadata": {},
   "outputs": [
    {
     "name": "stdout",
     "output_type": "stream",
     "text": [
      "Pearsonr correlation Test: 9.197970126957359e-05\n",
      "Correlation coefficent: 0.14064695254510517\n",
      "p-value: 9.197970126957359e-05\n",
      "The data is correlated (reject H0).\n"
     ]
    }
   ],
   "source": [
    "x5 = df[\"DiabetesPedigreeFunction\"]\n",
    "y5 = df[\"BMI\"]\n",
    "r5, p5 = pearsonr(x5, y5)\n",
    "\n",
    "print(\"Pearsonr correlation Test:\",p5)\n",
    "print(\"Correlation coefficent:\",r5)\n",
    "print(\"p-value:\",p5)\n",
    "\n",
    "if p5 > 0.05:\n",
    "    print(\"The data is likely not correlated (fail to reject H0).\")\n",
    "else :\n",
    "    print(\"The data is correlated (reject H0).\")"
   ]
  },
  {
   "cell_type": "code",
   "execution_count": 24,
   "id": "01bf20e3-f244-4674-b374-f8927bfa41dd",
   "metadata": {},
   "outputs": [
    {
     "name": "stdout",
     "output_type": "stream",
     "text": [
      "Pearsonr correlation Test: 0.3529797336668882\n",
      "Correlation coefficent: 0.03356131243480553\n",
      "p-value: 0.3529797336668882\n",
      "The data is likely not correlated (fail to reject H0).\n"
     ]
    }
   ],
   "source": [
    "x6 = df[\"DiabetesPedigreeFunction\"]\n",
    "y6 = df[\"Age\"]\n",
    "r6, p6 = pearsonr(x6, y6)\n",
    "\n",
    "print(\"Pearsonr correlation Test:\",p6)\n",
    "print(\"Correlation coefficent:\",r6)\n",
    "print(\"p-value:\",p6)\n",
    "\n",
    "if p6 > 0.05:\n",
    "    print(\"The data is likely not correlated (fail to reject H0).\")\n",
    "else :\n",
    "    print(\"The data is correlated (reject H0).\")"
   ]
  },
  {
   "cell_type": "code",
   "execution_count": 25,
   "id": "2f2e16a2-5767-4ad3-a7cb-f3d2e3ba0a96",
   "metadata": {},
   "outputs": [
    {
     "name": "stdout",
     "output_type": "stream",
     "text": [
      "Pearsonr correlation Test: 1.2546070101487771e-06\n",
      "Correlation coefficent: 0.1738440656529601\n",
      "p-value: 1.2546070101487771e-06\n",
      "The data is correlated (reject H0).\n"
     ]
    }
   ],
   "source": [
    "x7 = df[\"DiabetesPedigreeFunction\"]\n",
    "y7 = df[\"Outcome\"]\n",
    "r7, p7 = pearsonr(x7, y7)\n",
    "\n",
    "print(\"Pearsonr correlation Test:\",p7)\n",
    "print(\"Correlation coefficent:\",r7)\n",
    "print(\"p-value:\",p7)\n",
    "\n",
    "if p7 > 0.05:\n",
    "    print(\"The data is likely not correlated (fail to reject H0).\")\n",
    "else :\n",
    "    print(\"The data is correlated (reject H0).\")"
   ]
  },
  {
   "cell_type": "code",
   "execution_count": 26,
   "id": "d75f5a65-d3ac-48dc-a23b-c44132293c93",
   "metadata": {},
   "outputs": [
    {
     "name": "stdout",
     "output_type": "stream",
     "text": [
      "Maximum correlation values is: 0.18507092916809909\n"
     ]
    }
   ],
   "source": [
    "list = [r1,r2,r3,r4,r5,r6,r7]\n",
    "print(\"Maximum correlation values is:\",max(list))"
   ]
  },
  {
   "cell_type": "code",
   "execution_count": 27,
   "id": "0f602552-eb04-434b-96f1-54788ed8e425",
   "metadata": {},
   "outputs": [
    {
     "data": {
      "text/plain": [
       "34339.555"
      ]
     },
     "execution_count": 27,
     "metadata": {},
     "output_type": "execute_result"
    }
   ],
   "source": [
    "a = (x4*y4).sum()\n",
    "a"
   ]
  },
  {
   "cell_type": "code",
   "execution_count": 28,
   "id": "d7a241a3-3b82-488f-abbd-c86062c571a4",
   "metadata": {},
   "outputs": [
    {
     "data": {
      "text/plain": [
       "61286"
      ]
     },
     "execution_count": 28,
     "metadata": {},
     "output_type": "execute_result"
    }
   ],
   "source": [
    "b = y4.sum()\n",
    "b"
   ]
  },
  {
   "cell_type": "code",
   "execution_count": 29,
   "id": "79b3c619-a6a1-4e16-844b-51b0747ac51f",
   "metadata": {},
   "outputs": [
    {
     "data": {
      "text/plain": [
       "362.40099999999995"
      ]
     },
     "execution_count": 29,
     "metadata": {},
     "output_type": "execute_result"
    }
   ],
   "source": [
    "c = x4.sum()\n",
    "c"
   ]
  },
  {
   "cell_type": "code",
   "execution_count": 30,
   "id": "298ce312-39d5-448a-977e-70a6e5cdb500",
   "metadata": {},
   "outputs": [
    {
     "data": {
      "text/plain": [
       "15077256"
      ]
     },
     "execution_count": 30,
     "metadata": {},
     "output_type": "execute_result"
    }
   ],
   "source": [
    "d = (y4**2).sum()\n",
    "d"
   ]
  },
  {
   "cell_type": "code",
   "execution_count": 31,
   "id": "70d28e91-5049-4292-8e07-1b8255f70e1d",
   "metadata": {},
   "outputs": [
    {
     "data": {
      "text/plain": [
       "3755973796"
      ]
     },
     "execution_count": 31,
     "metadata": {},
     "output_type": "execute_result"
    }
   ],
   "source": [
    "e = (y4.sum())**2\n",
    "e"
   ]
  },
  {
   "cell_type": "code",
   "execution_count": 32,
   "id": "4a7c2e22-b653-4cc0-af5d-2fef452ecfff",
   "metadata": {},
   "outputs": [
    {
     "data": {
      "text/plain": [
       "768"
      ]
     },
     "execution_count": 32,
     "metadata": {},
     "output_type": "execute_result"
    }
   ],
   "source": [
    "n=len(df)\n",
    "n"
   ]
  },
  {
   "cell_type": "code",
   "execution_count": 33,
   "id": "75fa55b9-25b6-4291-ae5b-e21c51898a7e",
   "metadata": {},
   "outputs": [
    {
     "data": {
      "text/plain": [
       "0.0005320822748938753"
      ]
     },
     "execution_count": 33,
     "metadata": {},
     "output_type": "execute_result"
    }
   ],
   "source": [
    "slope=((n*a-b*c)/(n*d-e))\n",
    "slope"
   ]
  },
  {
   "cell_type": "code",
   "execution_count": 34,
   "id": "6194acc6-2759-4541-83b3-abd7131cf629",
   "metadata": {},
   "outputs": [
    {
     "data": {
      "text/plain": [
       "0.42941641367298683"
      ]
     },
     "execution_count": 34,
     "metadata": {},
     "output_type": "execute_result"
    }
   ],
   "source": [
    "inter=(c-slope*b)/n\n",
    "inter"
   ]
  },
  {
   "cell_type": "code",
   "execution_count": 35,
   "id": "9b5d251f-c4c4-4ba6-9a19-f78971221140",
   "metadata": {},
   "outputs": [
    {
     "data": {
      "text/plain": [
       "79.79922808965038"
      ]
     },
     "execution_count": 35,
     "metadata": {},
     "output_type": "execute_result"
    }
   ],
   "source": [
    "inter1=(b-slope*c)/n\n",
    "inter1"
   ]
  },
  {
   "cell_type": "code",
   "execution_count": 36,
   "id": "975fb19a-1d23-4903-9ef9-92768b4068d9",
   "metadata": {},
   "outputs": [
    {
     "data": {
      "text/plain": [
       "0.47890006523811723"
      ]
     },
     "execution_count": 36,
     "metadata": {},
     "output_type": "execute_result"
    }
   ],
   "source": [
    "f=(slope*93)+inter\n",
    "f"
   ]
  },
  {
   "cell_type": "code",
   "execution_count": 37,
   "id": "1ca28522-c7ae-4d07-bd66-5db2f4864485",
   "metadata": {},
   "outputs": [
    {
     "data": {
      "text/plain": [
       "79.84871174121551"
      ]
     },
     "execution_count": 37,
     "metadata": {},
     "output_type": "execute_result"
    }
   ],
   "source": [
    "g=(slope*93)+inter1\n",
    "g"
   ]
  },
  {
   "cell_type": "code",
   "execution_count": 38,
   "id": "af083cd4-12dc-4166-bb5a-018108841ebb",
   "metadata": {},
   "outputs": [
    {
     "name": "stdin",
     "output_type": "stream",
     "text": [
      "Enter a number: 53\n"
     ]
    },
    {
     "name": "stdout",
     "output_type": "stream",
     "text": [
      "79.82742845021976\n"
     ]
    }
   ],
   "source": [
    "x=int(input(\"Enter a number:\"))\n",
    "\n",
    "y = slope*x + inter1\n",
    "print(y)"
   ]
  },
  {
   "cell_type": "code",
   "execution_count": null,
   "id": "0db6c809-3d79-46d9-bb62-4ebc7c90f3b5",
   "metadata": {},
   "outputs": [],
   "source": []
  }
 ],
 "metadata": {
  "kernelspec": {
   "display_name": "Python 3 (ipykernel)",
   "language": "python",
   "name": "python3"
  },
  "language_info": {
   "codemirror_mode": {
    "name": "ipython",
    "version": 3
   },
   "file_extension": ".py",
   "mimetype": "text/x-python",
   "name": "python",
   "nbconvert_exporter": "python",
   "pygments_lexer": "ipython3",
   "version": "3.12.7"
  }
 },
 "nbformat": 4,
 "nbformat_minor": 5
}
